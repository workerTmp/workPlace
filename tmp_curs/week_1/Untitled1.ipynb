{
 "cells": [
  {
   "cell_type": "code",
   "execution_count": 47,
   "id": "sexual-marathon",
   "metadata": {},
   "outputs": [],
   "source": [
    "from sklearn import datasets, linear_model, metrics\n",
    "from sklearn.model_selection import cross_validate\n",
    "from sklearn.model_selection import train_test_split\n",
    "from sklearn.model_selection import cross_val_score\n",
    "\n",
    "import numpy as np"
   ]
  },
  {
   "cell_type": "code",
   "execution_count": 12,
   "id": "english-shakespeare",
   "metadata": {},
   "outputs": [
    {
     "name": "stdout",
     "output_type": "stream",
     "text": [
      "Populating the interactive namespace from numpy and matplotlib\n"
     ]
    }
   ],
   "source": [
    "%pylab inline\n"
   ]
  },
  {
   "cell_type": "markdown",
   "id": "other-gospel",
   "metadata": {},
   "source": [
    "работа с csv.\n",
    "выбираем данные о смертности по всем городам\n",
    "интервальная оценка средней"
   ]
  },
  {
   "cell_type": "code",
   "execution_count": 77,
   "id": "pressed-proposal",
   "metadata": {},
   "outputs": [
    {
     "name": "stdout",
     "output_type": "stream",
     "text": [
      "1524.1475409836066 24.028521714278174\n",
      "sgd model mean auc 95%% confidence interval (1476.0833413552848, 1572.2117406119285)\n"
     ]
    }
   ],
   "source": [
    "from statsmodels.stats.weightstats import _tconfint_generic\n",
    "import pandas as pd\n",
    "data = pd.read_csv('tmp_curs/week_1/water.csv',sep='\\t')\n",
    "data_mortality = data['mortality']\n",
    "mortality_mean=data_mortality.mean()\n",
    "mortality_std=data_mortality.std(ddof=1)/sqrt(len(data_mortality))\n",
    "print(mortality_mean,mortality_std)\n",
    "print(\"sgd model mean auc 95%% confidence interval\", _tconfint_generic(mortality_mean, mortality_std,\n",
    "                                                                       len(data_mortality) - 1,\n",
    "                                                                       0.05, 'two-sided'))"
   ]
  },
  {
   "cell_type": "markdown",
   "id": "imperial-batman",
   "metadata": {},
   "source": [
    "дополнительная маркировка данных\n",
    "хочу вывести смертность относительно жесткости с цветовым разделением по городам"
   ]
  },
  {
   "cell_type": "code",
   "execution_count": 107,
   "id": "criminal-environment",
   "metadata": {},
   "outputs": [
    {
     "name": "stdout",
     "output_type": "stream",
     "text": [
      "{0: 'North', 1: 'South'}\n"
     ]
    },
    {
     "data": {
      "text/plain": [
       "<matplotlib.collections.PathCollection at 0x7fa1d8dfcfd0>"
      ]
     },
     "execution_count": 107,
     "metadata": {},
     "output_type": "execute_result"
    },
    {
     "data": {
      "image/png": "[encoded data removed]",
      "text/plain": [
       "<matplotlib.figure.Figure at 0x7fa1d8ed2b70>"
      ]
     },
     "metadata": {
      "needs_background": "light"
     },
     "output_type": "display_data"
    }
   ],
   "source": [
    "from statsmodels.stats.weightstats import _tconfint_generic\n",
    "import pandas as pd\n",
    "data = pd.read_csv('tmp_curs/week_1/water.csv',sep='\\t',header=0,dtype={'location': 'category',\n",
    "                                                                        'town': str,\n",
    "                                                                        'mortality': int64,\n",
    "                                                                       'hardness': int64})\n",
    "data_mortality = data['mortality']\n",
    "data_hardness = data['hardness']\n",
    "print(dict(enumerate(data['location'].cat.categories)))\n",
    "data_towns = list(data['location'].cat.codes)\n",
    "pylab.figure(figsize(8, 8))\n",
    "pylab.scatter(data_mortality, data_hardness,  c=data_towns)\n"
   ]
  },
  {
   "cell_type": "markdown",
   "id": "national-lawrence",
   "metadata": {},
   "source": [
    "работа с csv.\n",
    "выбираем данные о смертности по южным городам\n",
    "интервальная оценка средней"
   ]
  },
  {
   "cell_type": "code",
   "execution_count": 73,
   "id": "pacific-badge",
   "metadata": {},
   "outputs": [
    {
     "name": "stdout",
     "output_type": "stream",
     "text": [
      "1376.8076923076924 27.509048538240833\n",
      "sgd model mean auc 95%% confidence interval (1320.1517462936238, 1433.463638321761)\n"
     ]
    }
   ],
   "source": [
    "from statsmodels.stats.weightstats import _tconfint_generic\n",
    "import pandas as pd\n",
    "data = pd.read_csv('tmp_curs/week_1/water.csv',sep='\\t')\n",
    "data_mortality_south = data.loc[data['location'].str.contains('South')]['mortality']\n",
    "mortality_mean_south=data_mortality_south.mean()\n",
    "mortality_std_south=data_mortality_south.std(ddof=1)/sqrt(len(data_mortality_south))\n",
    "print(mortality_mean_south,mortality_std_south)\n",
    "print(\"sgd model mean auc 95%% confidence interval\", _tconfint_generic(mortality_mean_south, mortality_std_south,\n",
    "                                                                       len(data_mortality_south) - 1,\n",
    "                                                                       0.05, 'two-sided'))"
   ]
  },
  {
   "cell_type": "markdown",
   "id": "sixth-headline",
   "metadata": {},
   "source": [
    "работа с csv.\n",
    "выбираем данные о смертности по северным городам\n",
    "интервальная оценка средней"
   ]
  },
  {
   "cell_type": "code",
   "execution_count": 74,
   "id": "conceptual-mentor",
   "metadata": {},
   "outputs": [
    {
     "name": "stdout",
     "output_type": "stream",
     "text": [
      "1633.6 23.146562624816188\n",
      "sgd model mean auc 95%% confidence interval (1586.5605251961385, 1680.6394748038613)\n"
     ]
    }
   ],
   "source": [
    "from statsmodels.stats.weightstats import _tconfint_generic\n",
    "import pandas as pd\n",
    "data = pd.read_csv('tmp_curs/week_1/water.csv',sep='\\t')\n",
    "data_mortality_north = data.loc[data['location'].str.contains('North')]['mortality']\n",
    "mortality_mean_north=data_mortality_north.mean()\n",
    "mortality_std_north=data_mortality_north.std(ddof=1)/sqrt(len(data_mortality_north))\n",
    "print(mortality_mean_north,mortality_std_north)\n",
    "print(\"sgd model mean auc 95%% confidence interval\", _tconfint_generic(mortality_mean_north, mortality_std_north,\n",
    "                                                                       len(data_mortality_north) - 1,\n",
    "                                                                       0.05, 'two-sided'))"
   ]
  },
  {
   "cell_type": "markdown",
   "id": "harmful-alias",
   "metadata": {},
   "source": [
    "работа с csv.\n",
    "выбираем данные о жесткости воды на севере и юге отдельно\n",
    "интервальная оценка средней"
   ]
  },
  {
   "cell_type": "code",
   "execution_count": 75,
   "id": "second-tsunami",
   "metadata": {},
   "outputs": [
    {
     "name": "stdout",
     "output_type": "stream",
     "text": [
      "69.76923076923077 7.9153808776248935\n",
      "sgd model mean auc 95%% confidence interval (53.467198692036106, 86.07126284642544)\n",
      "30.4 4.417535721274871\n",
      "sgd model mean auc 95%% confidence interval (21.42248728572426, 39.37751271427574)\n"
     ]
    }
   ],
   "source": [
    "from statsmodels.stats.weightstats import _tconfint_generic\n",
    "import pandas as pd\n",
    "data = pd.read_csv('tmp_curs/week_1/water.csv',sep='\\t')\n",
    "data_hardness_south = data.loc[data['location'].str.contains('South')]['hardness']\n",
    "hardness_mean_south=data_hardness_south.mean()\n",
    "hardness_std_south=data_hardness_south.std(ddof=1)/sqrt(len(data_hardness_south))\n",
    "print(hardness_mean_south,hardness_std_south)\n",
    "print(\"sgd model mean auc 95%% confidence interval\", _tconfint_generic(hardness_mean_south, hardness_std_south,\n",
    "                                                                       len(data_hardness_south) - 1,\n",
    "                                                                       0.05, 'two-sided'))\n",
    "\n",
    "data_hardness_north = data.loc[data['location'].str.contains('North')]['hardness']\n",
    "hardness_mean_north=data_hardness_north.mean()\n",
    "hardness_std_north=data_hardness_north.std(ddof=1)/sqrt(len(data_hardness_north))\n",
    "print(hardness_mean_north,hardness_std_north)\n",
    "print(\"sgd model mean auc 95%% confidence interval\", _tconfint_generic(hardness_mean_north, hardness_std_north,\n",
    "                                                                       len(data_hardness_north) - 1,\n",
    "                                                                       0.05, 'two-sided'))"
   ]
  },
  {
   "cell_type": "code",
   "execution_count": null,
   "id": "regulated-luxury",
   "metadata": {},
   "outputs": [],
   "source": []
  }
 ],
 "metadata": {
  "kernelspec": {
   "display_name": "Python 3",
   "language": "python",
   "name": "python3"
  },
  "language_info": {
   "codemirror_mode": {
    "name": "ipython",
    "version": 3
   },
   "file_extension": ".py",
   "mimetype": "text/x-python",
   "name": "python",
   "nbconvert_exporter": "python",
   "pygments_lexer": "ipython3",
   "version": "3.6.9"
  }
 },
 "nbformat": 4,
 "nbformat_minor": 5
}
